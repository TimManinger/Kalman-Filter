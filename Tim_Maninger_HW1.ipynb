{
 "cells": [
  {
   "cell_type": "markdown",
   "metadata": {},
   "source": [
    "# Prediction Step:\n",
    "With this step all we know is the starting conditions and the mean/variance of the accelerations, so "
   ]
  },
  {
   "cell_type": "code",
   "execution_count": 1,
   "metadata": {},
   "outputs": [
    {
     "name": "stdout",
     "output_type": "stream",
     "text": [
      "1 [0.0, -1.424781324101176]\n",
      "2 [-0.712390662050588, 0.795142095268818]\n",
      "3 [0.04137571660911499, -0.04763044006699192]\n",
      "4 [-0.0031273617289384673, 0.900497315762641]\n",
      "5 [1.793786685467861, 3.1388883939188705]\n"
     ]
    },
    {
     "data": {
      "image/png": "[encoded data removed]",
      "text/plain": [
       "<Figure size 432x288 with 1 Axes>"
      ]
     },
     "metadata": {
      "needs_background": "light"
     },
     "output_type": "display_data"
    }
   ],
   "source": [
    "\"\"\"\n",
    "FULL DISCLOSURE: I looked up how to do ellipses with matplotlib here: \n",
    "https://stackoverflow.com/questions/20126061/creating-a-confidence-ellipses-in-a-sccatterplot-using-matplotlib\n",
    "I'm not 100% certain about it, but it looks good so I'm going with it for now.\n",
    "\"\"\"\n",
    "\n",
    "from math import *\n",
    "from matplotlib.patches import Ellipse\n",
    "import matplotlib.pyplot as plt\n",
    "import numpy as np\n",
    "\n",
    "# How many timesteps to simulate\n",
    "iters = 5\n",
    "# Seed for repeatable randomness\n",
    "rseed = 13\n",
    "m = 0     #mean of accelerations\n",
    "v = 1.0     #variance of accelerations\n",
    "\n",
    "# Starting Variables\n",
    "t = 0       #current time\n",
    "x = 0     #current position\n",
    "xmean = 0 #current position belief mean\n",
    "xvar = 0  #current position variance\n",
    "xdot = 0  #current velocity\n",
    "a = 0     #current acceleration\n",
    "\n",
    "# Generating Random Accels According to Distribution\n",
    "random_state = np.random.RandomState(rseed)\n",
    "accels = random_state.normal(m, v, iters)\n",
    "\n",
    "# Initialize Arrays for Later\n",
    "xs = np.zeros(iters)\n",
    "xdots = np.zeros(iters)\n",
    "\n",
    "# simple enough to just add what we know\n",
    "def predict(mean1, var1, mean2, var2):\n",
    "    nmean = mean1 + mean2\n",
    "    nvar = var1 + var2\n",
    "    return [nmean, nvar]\n",
    "\n",
    "for tstep in range(iters):\n",
    "    xs[tstep] = xmean\n",
    "    xdot += accels[tstep]\n",
    "    xdots[tstep] = xdot + accels[tstep]\n",
    "    xmean, xvar = predict(xmean, xvar, accels[tstep], v)\n",
    "xs[tstep] = xmean\n",
    "xdot += accels[tstep] \n",
    "xdots[tstep] = xdot\n",
    "\n",
    "for tstep in range(iters):\n",
    "    print(tstep + 1, \"[\" + str(xs[tstep]) + \", \" + str(xdots[tstep]) + \"]\")\n",
    "\n",
    "\n",
    "#### Plotting Ellipses ####\n",
    "\n",
    "def eigsorted(cov):\n",
    "    vals, vecs = np.linalg.eigh(cov)\n",
    "    order = vals.argsort()[::-1]\n",
    "    return vals[order], vecs[:,order]\n",
    "\n",
    "nstd = 2\n",
    "ax = plt.subplot(111)\n",
    "\n",
    "cov = np.cov(xs,xdots)\n",
    "vals, vecs = eigsorted(cov)\n",
    "theta = np.degrees(np.arctan2(*vecs[:,0][::-1]))\n",
    "w, h = 2 * nstd * np.sqrt(vals)\n",
    "ell = Ellipse(xy=(np.mean(xs), np.mean(xdots)),\n",
    "              width=w, height=h,\n",
    "              angle=theta, color='black')\n",
    "ell.set_facecolor('none')\n",
    "ax.add_artist(ell)\n",
    "plt.scatter(xs, xdots)\n",
    "plt.ylim([-5,15])\n",
    "plt.xlim([-15,15])\n",
    "\n",
    "plt.show()"
   ]
  },
  {
   "cell_type": "markdown",
   "metadata": {},
   "source": [
    "# Part 2"
   ]
  },
  {
   "cell_type": "code",
   "execution_count": 2,
   "metadata": {},
   "outputs": [
    {
     "name": "stdout",
     "output_type": "stream",
     "text": [
      "Before: [ 1.793786685467861, 3.1388883939188705]\n",
      "After:  [ 4.106260499737325, 2.2543638344612593]\n",
      "calculated: 11.343069510637937\n",
      "real end:   9.896380065731329\n"
     ]
    }
   ],
   "source": [
    "def update(mean1, var1, mean2, var2):\n",
    "    new_mean = (var2 * mean1 + var1 * mean2) / (var2 + var1)\n",
    "    new_var = 1 / (1 / var2 + 1 / var1)\n",
    "    return [new_mean, new_var]\n",
    "\n",
    "print(\"Before: [\", str(xs[tstep]) + \", \" + str(xdots[tstep]) + \"]\")\n",
    "\n",
    "measure = 10.0\n",
    "m_var = 8.0\n",
    "\n",
    "m_x, m_xdot = update(xs[tstep], xdots[tstep], measure, m_var)\n",
    "\n",
    "print(\"After:  [\", str(m_x) + \", \" + str(m_xdot) + \"]\")  \n",
    "\n",
    "\n",
    "\n",
    "#### Adapting to measure randomly ####\n",
    "\"\"\"\n",
    "It seems like the sensor data needs to be created by adding noise to a ground truth rather than \n",
    "the prior beliefs which may wander, so I am quickly going to generate ground truths.\n",
    "\"\"\"\n",
    "def runthething(inters, chance):\n",
    "    xmean = 0.0\n",
    "    xvar = 0.0\n",
    "    xdot = 0.0\n",
    "    accels = np.zeros(iters)\n",
    "    xs = np.zeros(iters)\n",
    "    xdots = np.zeros(iters)\n",
    "    true_x = np.zeros(iters)\n",
    "    true_dotx = np.zeros(iters)\n",
    "    #generate ground truth accelerations\n",
    "    true_accels = random_state.normal(m, v, iters)\n",
    "    \n",
    "    for tstep in range(iters):\n",
    "        #generate noisy accelerations\n",
    "        accels[tstep] = true_accels[tstep] + random_state.normal(0.0, .5)\n",
    "        #Generate ground truth velocities\n",
    "        if tstep > 0:\n",
    "            true_dotx[tstep] = true_dotx[tstep-1] + true_accels[tstep]\n",
    "        #generate ground truth positions\n",
    "        if tstep > 0:\n",
    "            true_x[tstep] = true_x[tstep-1] + true_dotx[tstep]\n",
    "\n",
    "            \n",
    "    for tstep in range(iters):\n",
    "        if tstep > 0:\n",
    "            xs[tstep] = xmean\n",
    "            xdot += accels[tstep]\n",
    "            xdots[tstep] = xdot + accels[tstep]\n",
    "        xmean, xvar = predict(xmean, xvar, accels[tstep], v)\n",
    "        # Has a chance out of 10 chance to measure\n",
    "        if random_state.randint(1,10) >= chance and tstep > 0:\n",
    "            # Measurement based on ground truth and stated variance, normally distributed.\n",
    "            measure = true_x[tstep] + random_state.normal(0.0, 8.0)\n",
    "            xmean, xvar = update(xs[tstep], xdots[tstep], measure, m_var)\n",
    "    xs[tstep] = xmean\n",
    "    xdot += accels[tstep] \n",
    "    xdots[tstep] = xdot\n",
    "    return xs[-1], true_x[-1]\n",
    "    \n",
    "calcend, realend = runthething(10, 2)\n",
    "print(\"calculated: \" + str(calcend))\n",
    "print(\"real end:   \" + str(realend))"
   ]
  },
  {
   "cell_type": "markdown",
   "metadata": {},
   "source": [
    "# 2.3 here for clarity's sake\n",
    "It's a big boy so it gets its own box."
   ]
  },
  {
   "cell_type": "code",
   "execution_count": 3,
   "metadata": {},
   "outputs": [
    {
     "name": "stdout",
     "output_type": "stream",
     "text": [
      ".1 : 1.8529385298878882\n",
      ".5 : 2.2244605600049594\n",
      ".9 : 2.232922383287027\n"
     ]
    }
   ],
   "source": [
    "onetenthrun = np.zeros(10)\n",
    "onehalfrun = np.zeros(10)\n",
    "ninetenthsrun = np.zeros(10)\n",
    "\n",
    "for i in range(10):\n",
    "    calc, real = runthething(20, 9)\n",
    "    onetenthrun[i] = calc - real\n",
    "\n",
    "print(\".1 : \" + str(np.mean(onetenthrun)))\n",
    "    \n",
    "for i in range(10):\n",
    "    calc, real = runthething(20, 5)\n",
    "    onehalfrun[i] = calc - real\n",
    "    \n",
    "print(\".5 : \" + str(np.mean(onehalfrun)))\n",
    "    \n",
    "for i in range(10):\n",
    "    calc, real = runthething(20, 1)\n",
    "    ninetenthsrun[i] = calc - real\n",
    "    \n",
    "print(\".9 : \" + str(np.mean(ninetenthsrun)))"
   ]
  }
 ],
 "metadata": {
  "kernelspec": {
   "display_name": "Python 3",
   "language": "python",
   "name": "python3"
  },
  "language_info": {
   "codemirror_mode": {
    "name": "ipython",
    "version": 3
   },
   "file_extension": ".py",
   "mimetype": "text/x-python",
   "name": "python",
   "nbconvert_exporter": "python",
   "pygments_lexer": "ipython3",
   "version": "3.7.6"
  }
 },
 "nbformat": 4,
 "nbformat_minor": 2
}
